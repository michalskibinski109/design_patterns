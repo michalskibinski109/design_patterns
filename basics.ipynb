{
 "cells": [
  {
   "cell_type": "markdown",
   "metadata": {},
   "source": [
    "* **encapsulation (hermetisation)** - protects your code by controlling the ways values are accessed and\n",
    "changed, so that your code is only used as explicitly designed. Like\n",
    "abstraction,encapsulation places a layer of separation between the underlying \n",
    "complexity of your code and the programmers who might be accessing it.\n",
    "* **inheritance (dziedziczenie)** - it is used to define relationship between two class, \n",
    "which a child class occurs all the properties and behaviours of a parent class. \n",
    "Provides code reusability.\n",
    "Ex: in my framework I have a TestBase class which I store \n",
    "all my reusable code and methods. My test execution classes and \n",
    "elements classes will extend the TestBase in order to reuse the code.\n",
    "* **composition (better then inheritance if u have choice)** -  a class that references one or more objects of other classes in instance variables.\n",
    "* **abstraction** - ex - animal -> cat\n",
    "* **polymorphism** -  ability of a variable, function or object to take on multiple forms.\n",
    "* **design patterns** - Specific solutions"
   ]
  },
  {
   "cell_type": "code",
   "execution_count": 1,
   "metadata": {},
   "outputs": [],
   "source": [
    "# polymorphism\n",
    "class Animal:\n",
    "    def greet():\n",
    "        print('animals classes has to define me')\n",
    "\n",
    "class Cat(Animal):\n",
    "    def greet():\n",
    "        print('meow')\n",
    "\n",
    "class Elephant(Animal):\n",
    "    def greet():\n",
    "        print('trutututuu')"
   ]
  },
  {
   "cell_type": "markdown",
   "metadata": {},
   "source": [
    "\n",
    "### design priciples - general guidelindes\n",
    "* Encapsulate what varies (separate code that changes from code that doesnt)\n",
    "* program to an interface not an implementation - use a supertype to refer to  object rather then to them specific types.\n",
    "* **The open-closed Principle** - classs should be open for extension but closed for modification (preventing bugs)\n"
   ]
  },
  {
   "cell_type": "markdown",
   "metadata": {},
   "source": []
  }
 ],
 "metadata": {
  "kernelspec": {
   "display_name": "Python 3.10.5 64-bit",
   "language": "python",
   "name": "python3"
  },
  "language_info": {
   "codemirror_mode": {
    "name": "ipython",
    "version": 3
   },
   "file_extension": ".py",
   "mimetype": "text/x-python",
   "name": "python",
   "nbconvert_exporter": "python",
   "pygments_lexer": "ipython3",
   "version": "3.10.5"
  },
  "orig_nbformat": 4,
  "vscode": {
   "interpreter": {
    "hash": "3be9e5696a189367ac437c9ad4ada2fc5850f94c6838548f2cfb30342767cceb"
   }
  }
 },
 "nbformat": 4,
 "nbformat_minor": 2
}
