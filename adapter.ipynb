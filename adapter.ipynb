{
 "cells": [
  {
   "cell_type": "markdown",
   "metadata": {},
   "source": [
    "### adapter pattern\n",
    "![cat](img/adapterSchema.png)"
   ]
  },
  {
   "cell_type": "markdown",
   "metadata": {},
   "source": [
    "![cat](img/adapter.png)"
   ]
  },
  {
   "cell_type": "markdown",
   "metadata": {},
   "source": [
    "we create mehtods that converts methods from our class to base class. ex:  gooble() -> fly()"
   ]
  },
  {
   "cell_type": "code",
   "execution_count": 17,
   "metadata": {},
   "outputs": [
    {
     "name": "stdout",
     "output_type": "stream",
     "text": [
      "taking off\n",
      "spinnig rotors\n",
      "beeping\n"
     ]
    }
   ],
   "source": [
    "class Duck:\n",
    "    def quack():\n",
    "        print('quack')\n",
    "\n",
    "    def fly():\n",
    "        print('i m flaying')\n",
    "\n",
    "class DuckSimulator:\n",
    "    def __init__(self, duck:Duck) -> None:\n",
    "        self.duck = duck\n",
    "        \n",
    "    def play(self):\n",
    "        self.duck.fly()\n",
    "        self.duck.quack()\n",
    "\n",
    "\n",
    "class Drone:\n",
    "    def beep(self):\n",
    "        print('beeping')\n",
    "\n",
    "    def spin_rotors(self):\n",
    "        print('spinnig rotors')\n",
    "\n",
    "    def take_off(self):\n",
    "       print('taking off')\n",
    "\n",
    "\n",
    "class DronAdapter(Duck):\n",
    "    def __init__(self, drone: Drone) -> None:\n",
    "        self.drone = drone\n",
    "\n",
    "    def quack(self):\n",
    "        self.drone.beep()\n",
    "\n",
    "    def fly(self):\n",
    "        self.drone.take_off()\n",
    "        self.drone.spin_rotors()\n",
    "\n",
    "drone = Drone()\n",
    "adapter = DronAdapter(drone)\n",
    "simulation = DuckSimulator(adapter)\n",
    "simulation.play()"
   ]
  }
 ],
 "metadata": {
  "kernelspec": {
   "display_name": "Python 3.10.5 64-bit",
   "language": "python",
   "name": "python3"
  },
  "language_info": {
   "codemirror_mode": {
    "name": "ipython",
    "version": 3
   },
   "file_extension": ".py",
   "mimetype": "text/x-python",
   "name": "python",
   "nbconvert_exporter": "python",
   "pygments_lexer": "ipython3",
   "version": "3.10.5"
  },
  "orig_nbformat": 4,
  "vscode": {
   "interpreter": {
    "hash": "3be9e5696a189367ac437c9ad4ada2fc5850f94c6838548f2cfb30342767cceb"
   }
  }
 },
 "nbformat": 4,
 "nbformat_minor": 2
}
