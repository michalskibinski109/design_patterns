{
 "cells": [
  {
   "cell_type": "markdown",
   "metadata": {},
   "source": [
    "### observer pattern\n",
    "\n",
    "* publisher object receive request from subscriber \n",
    "* subscribers send request to publisher\n",
    "* when **observer**(subscriber) send request - become subscriber of **Subject**(publisher)\n",
    "* one to many dependencies if **publisher** changes everything change\n",
    "* ![loc](img/observer.png)\n"
   ]
  },
  {
   "cell_type": "markdown",
   "metadata": {},
   "source": [
    "uml:\n",
    "* ![loc](img/observerUml.png)"
   ]
  },
  {
   "cell_type": "markdown",
   "metadata": {},
   "source": [
    "### loose coupling\n",
    "* Subject and observer interact, but have little knowledge of each other\n",
    "* subject doesn't know the concrete class of the observers\n",
    "* subject relies on a list of observors. uses them to notify observers that something has changed"
   ]
  },
  {
   "cell_type": "markdown",
   "metadata": {},
   "source": [
    "### chalenge\n",
    "* ![loc](img/observerChallenge.png)"
   ]
  },
  {
   "cell_type": "code",
   "execution_count": null,
   "metadata": {},
   "outputs": [],
   "source": [
    "import time\n",
    "import numpy as np\n",
    "from abc import ABC, abstractmethod\n",
    "\n",
    "\n",
    "class Observer(ABC):\n",
    "    @abstractmethod\n",
    "    def update(self, data: dict):\n",
    "        self.data = data\n",
    "\n",
    "\n",
    "class Subject(ABC):\n",
    "    @abstractmethod\n",
    "    def __init__(self) -> None:\n",
    "        self.observers: list[Observer] = []\n",
    "\n",
    "    def registerObserver(self, observer: Observer):\n",
    "        if observer not in self.observers:\n",
    "            self.observers.append(observer)\n",
    "\n",
    "    def removeObserver(self, observer: Observer):\n",
    "        self.observers.remove(observer)\n",
    "\n",
    "    def notifyObservers(self):\n",
    "        pass\n",
    "\n",
    "\n",
    "class WeatherStation(Subject):\n",
    "    def __init__(self) -> None:\n",
    "        super().__init__()\n",
    "        self.temperature = np.random.randint(-10, 30)\n",
    "        self.windspeed = np.random.randint(-10, 30)\n",
    "        self.pressure = np.random.randint(-10, 30)\n",
    "\n",
    "    def getState(self):\n",
    "        return {'temperature': self.temperature, 'windspeed': self.windspeed, 'pressure': self.pressure}\n",
    "\n",
    "    def setState(self):\n",
    "        self.temperature = np.random.randint(-10, 30)\n",
    "        self.windspeed = np.random.randint(-10, 30)\n",
    "        self.pressure = np.random.randint(-10, 30)\n",
    "        self.notifyObservers()\n",
    "\n",
    "    def notifyObservers(self):\n",
    "        for obs in self.observers:\n",
    "            obs.update(self.getState())\n",
    "\n",
    "\n",
    "class AlertSystem(Observer):\n",
    "\n",
    "    def update(self, data: dict):\n",
    "        super().update(data)\n",
    "        self.alert()\n",
    "\n",
    "    def alert(self):\n",
    "        if self.data['temperature'] < 5:\n",
    "            print('COLD ALERT')\n",
    "\n",
    "\n",
    "class Logger(Observer):\n",
    "\n",
    "    def update(self, data: dict):\n",
    "        super().update(data)\n",
    "        self.log()\n",
    "\n",
    "    def log(self):\n",
    "        print(self.data)\n",
    "\n",
    "if __name__ == '__main__':\n",
    "    station = WeatherStation()\n",
    "    logger = Logger()\n",
    "    alert = AlertSystem()\n",
    "    station.registerObserver(alert)\n",
    "    station.registerObserver(logger)\n",
    "    for i in range(10):\n",
    "        station.setState()\n",
    "        time.sleep(2)\n"
   ]
  }
 ],
 "metadata": {
  "kernelspec": {
   "display_name": "Python 3.10.5 64-bit",
   "language": "python",
   "name": "python3"
  },
  "language_info": {
   "name": "python",
   "version": "3.10.5"
  },
  "orig_nbformat": 4,
  "vscode": {
   "interpreter": {
    "hash": "3be9e5696a189367ac437c9ad4ada2fc5850f94c6838548f2cfb30342767cceb"
   }
  }
 },
 "nbformat": 4,
 "nbformat_minor": 2
}
