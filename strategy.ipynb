{
 "cells": [
  {
   "cell_type": "markdown",
   "metadata": {},
   "source": [
    "### problems with is - a relationship\n",
    "* we have duplicated across classes\n",
    "* changes superclass can affect other ducks\n",
    "* runtime changes are difficult\n",
    "* ![Cat](img/isa.png)"
   ]
  },
  {
   "cell_type": "markdown",
   "metadata": {},
   "source": [
    "### has - a relationships\n",
    "* quack behaviors are separate objects from the duck class\n",
    "* ![Cat](img/hasa.png)"
   ]
  },
  {
   "cell_type": "markdown",
   "metadata": {},
   "source": [
    "we used strategy pattern.\n",
    "* ![Cat](img/strategy.png)"
   ]
  },
  {
   "cell_type": "markdown",
   "metadata": {},
   "source": [
    "example strategy pattern use:\n",
    "\n",
    "* ![cat](img/challenge1.png)"
   ]
  },
  {
   "cell_type": "code",
   "execution_count": null,
   "metadata": {},
   "outputs": [],
   "source": [
    "class ShareBehavior:\n",
    "    @staticmethod\n",
    "    def share():\n",
    "        print('sharing basic')\n",
    "\n",
    "\n",
    "class ShareFb(ShareBehavior):\n",
    "    @staticmethod\n",
    "    def share():\n",
    "        print('sharing to fb')\n",
    "\n",
    "\n",
    "class ShareIg(ShareBehavior):\n",
    "    @staticmethod\n",
    "    def share():\n",
    "        print('sharing to ig')\n",
    "\n",
    "\n",
    "class PhoneCameraApp:\n",
    "    shareBehavior = None\n",
    "\n",
    "    def setShareBehavior(self, sb):\n",
    "        self.shareBehavior: ShareBehavior = sb\n",
    "\n",
    "    def take(self):\n",
    "        return 'taking photo'\n",
    "\n",
    "    def edit(self):\n",
    "        return 'editing'\n",
    "\n",
    "    def performShare(self):\n",
    "        self.shareBehavior.share()\n",
    "\n",
    "\n",
    "class BasicCameraApp(PhoneCameraApp):\n",
    "    def __init__(self) -> None:\n",
    "        self.setShareBehavior(ShareFb)\n",
    "\n",
    "    def edit(self):\n",
    "        return 'editing for poor people'\n",
    "\n",
    "\n",
    "class CameraAppPlus(PhoneCameraApp):\n",
    "    def __init__(self) -> None:\n",
    "        self.setShareBehavior(ShareIg)\n",
    "\n",
    "    def edit(self):\n",
    "        return 'editing for rich people'\n"
   ]
  }
 ],
 "metadata": {
  "kernelspec": {
   "display_name": "Python 3.10.5 64-bit",
   "language": "python",
   "name": "python3"
  },
  "language_info": {
   "codemirror_mode": {
    "name": "ipython",
    "version": 3
   },
   "file_extension": ".py",
   "mimetype": "text/x-python",
   "name": "python",
   "nbconvert_exporter": "python",
   "pygments_lexer": "ipython3",
   "version": "3.10.5"
  },
  "orig_nbformat": 4,
  "vscode": {
   "interpreter": {
    "hash": "3be9e5696a189367ac437c9ad4ada2fc5850f94c6838548f2cfb30342767cceb"
   }
  }
 },
 "nbformat": 4,
 "nbformat_minor": 2
}
